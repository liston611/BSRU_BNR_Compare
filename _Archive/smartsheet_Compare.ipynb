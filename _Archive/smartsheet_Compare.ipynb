{
 "cells": [
  {
   "cell_type": "code",
   "execution_count": null,
   "metadata": {},
   "outputs": [],
   "source": [
    "import re\n",
    "import pandas \n",
    "import smartsheet\n",
    "import smartsheet_dataframe"
   ]
  },
  {
   "cell_type": "code",
   "execution_count": null,
   "metadata": {},
   "outputs": [],
   "source": [
    "# Setting up smartsheet access\n",
    "key = \"4wQvGxi5H6jgiaqgOryqo5CjX7Ai1UJMZ30zp\"\n",
    "client = smartsheet.Smartsheet(key)\n",
    "\n",
    "# Getting the list of sheets that I have access to\n",
    "sheets = client.Sheets.list_sheets(include_all=True).data"
   ]
  },
  {
   "cell_type": "code",
   "execution_count": null,
   "metadata": {},
   "outputs": [],
   "source": [
    "comparison_df = pandas.DataFrame(columns=['Route', 'Num_Stops_WO_Duplicates', 'Num_Duplicates', 'Unchanged_Count', 'Unchanged_Percent'])\n",
    "comparison_df.head()"
   ]
  },
  {
   "cell_type": "code",
   "execution_count": 14,
   "metadata": {},
   "outputs": [
    {
     "name": "stderr",
     "output_type": "stream",
     "text": [
      "Not able to retrieve get response. Retrying... 0\n",
      "Traceback (most recent call last):\n",
      "  File \"c:\\Users\\lmehserle\\AppData\\Local\\Programs\\Python\\Python311\\Lib\\site-packages\\smartsheet_dataframe\\smartsheet_dataframe.py\", line 209, in _do_request\n",
      "    response = requests.request(method=method.upper(), url=url, headers=options, json=json, data=data)\n",
      "               ^^^^^^^^^^^^^^^^^^^^^^^^^^^^^^^^^^^^^^^^^^^^^^^^^^^^^^^^^^^^^^^^^^^^^^^^^^^^^^^^^^^^^^^\n",
      "  File \"c:\\Users\\lmehserle\\AppData\\Local\\Programs\\Python\\Python311\\Lib\\site-packages\\requests\\api.py\", line 59, in request\n",
      "    return session.request(method=method, url=url, **kwargs)\n",
      "           ^^^^^^^^^^^^^^^^^^^^^^^^^^^^^^^^^^^^^^^^^^^^^^^^^\n",
      "  File \"c:\\Users\\lmehserle\\AppData\\Local\\Programs\\Python\\Python311\\Lib\\site-packages\\requests\\sessions.py\", line 589, in request\n",
      "    resp = self.send(prep, **send_kwargs)\n",
      "           ^^^^^^^^^^^^^^^^^^^^^^^^^^^^^^\n",
      "  File \"c:\\Users\\lmehserle\\AppData\\Local\\Programs\\Python\\Python311\\Lib\\site-packages\\requests\\sessions.py\", line 703, in send\n",
      "    r = adapter.send(request, **kwargs)\n",
      "        ^^^^^^^^^^^^^^^^^^^^^^^^^^^^^^^\n",
      "  File \"c:\\Users\\lmehserle\\AppData\\Local\\Programs\\Python\\Python311\\Lib\\site-packages\\requests\\adapters.py\", line 486, in send\n",
      "    resp = conn.urlopen(\n",
      "           ^^^^^^^^^^^^^\n",
      "  File \"c:\\Users\\lmehserle\\AppData\\Local\\Programs\\Python\\Python311\\Lib\\site-packages\\urllib3\\connectionpool.py\", line 790, in urlopen\n",
      "    response = self._make_request(\n",
      "               ^^^^^^^^^^^^^^^^^^^\n",
      "  File \"c:\\Users\\lmehserle\\AppData\\Local\\Programs\\Python\\Python311\\Lib\\site-packages\\urllib3\\connectionpool.py\", line 536, in _make_request\n",
      "    response = conn.getresponse()\n",
      "               ^^^^^^^^^^^^^^^^^^\n",
      "  File \"c:\\Users\\lmehserle\\AppData\\Local\\Programs\\Python\\Python311\\Lib\\site-packages\\urllib3\\connection.py\", line 461, in getresponse\n",
      "    httplib_response = super().getresponse()\n",
      "                       ^^^^^^^^^^^^^^^^^^^^^\n",
      "  File \"c:\\Users\\lmehserle\\AppData\\Local\\Programs\\Python\\Python311\\Lib\\http\\client.py\", line 1375, in getresponse\n",
      "    response.begin()\n",
      "  File \"c:\\Users\\lmehserle\\AppData\\Local\\Programs\\Python\\Python311\\Lib\\http\\client.py\", line 318, in begin\n",
      "    version, status, reason = self._read_status()\n",
      "                              ^^^^^^^^^^^^^^^^^^^\n",
      "  File \"c:\\Users\\lmehserle\\AppData\\Local\\Programs\\Python\\Python311\\Lib\\http\\client.py\", line 279, in _read_status\n",
      "    line = str(self.fp.readline(_MAXLINE + 1), \"iso-8859-1\")\n",
      "               ^^^^^^^^^^^^^^^^^^^^^^^^^^^^^^\n",
      "  File \"c:\\Users\\lmehserle\\AppData\\Local\\Programs\\Python\\Python311\\Lib\\socket.py\", line 706, in readinto\n",
      "    return self._sock.recv_into(b)\n",
      "           ^^^^^^^^^^^^^^^^^^^^^^^\n",
      "  File \"c:\\Users\\lmehserle\\AppData\\Local\\Programs\\Python\\Python311\\Lib\\ssl.py\", line 1278, in recv_into\n",
      "    return self.read(nbytes, buffer)\n",
      "           ^^^^^^^^^^^^^^^^^^^^^^^^^\n",
      "  File \"c:\\Users\\lmehserle\\AppData\\Local\\Programs\\Python\\Python311\\Lib\\ssl.py\", line 1134, in read\n",
      "    return self._sslobj.read(len, buffer)\n",
      "           ^^^^^^^^^^^^^^^^^^^^^^^^^^^^^^\n",
      "KeyboardInterrupt\n"
     ]
    }
   ],
   "source": [
    "# Looping through sheets and finding ones that match the name pattern I need\n",
    "for sheet in sheets:\n",
    "    # CHANGE THE REGEX PATTERN IN re.search() IF NECESSARY\n",
    "    if re.search(r\"Route \\d{1,3}\", sheet.name) and not re.search(r\"Deleted\", sheet.name):\n",
    "        route = re.search(r'Route\\s\\d{1,3}',sheet.name).group()\n",
    "        df = smartsheet_dataframe.get_sheet_as_df(key, sheet.id)\n",
    "        df.dropna(subset=['Route & Stop Number'], inplace=True)\n",
    "    #    count_abbr = len(df[df['Route & Stop Number'].str.contains(r'^\\d{6}')].index)\n",
    "    #    print(count_abbr)\n",
    "    #    duplicates = len(df['Duplicate'])\n",
    "    #    df = smartsheet_dataframe.get_sheet_as_df(key, sheet.id)\n",
    "    #    df_all = pandas.concat([df_all, df], ignore_index=True)"
   ]
  }
 ],
 "metadata": {
  "kernelspec": {
   "display_name": "Python 3",
   "language": "python",
   "name": "python3"
  },
  "language_info": {
   "codemirror_mode": {
    "name": "ipython",
    "version": 3
   },
   "file_extension": ".py",
   "mimetype": "text/x-python",
   "name": "python",
   "nbconvert_exporter": "python",
   "pygments_lexer": "ipython3",
   "version": "3.11.3"
  }
 },
 "nbformat": 4,
 "nbformat_minor": 2
}
